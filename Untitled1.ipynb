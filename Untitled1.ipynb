{
 "cells": [
  {
   "cell_type": "code",
   "execution_count": 1,
   "id": "88635e9f",
   "metadata": {},
   "outputs": [],
   "source": [
    "import pandas as pd\n",
    "from datetime import datetime\n",
    "import pickle\n"
   ]
  },
  {
   "cell_type": "code",
   "execution_count": 2,
   "id": "98f703b5",
   "metadata": {},
   "outputs": [],
   "source": [
    "with open('expired_invoices.txt', 'r') as file:\n",
    "    expired = file.read()"
   ]
  },
  {
   "cell_type": "code",
   "execution_count": 4,
   "id": "1a569b1a",
   "metadata": {},
   "outputs": [],
   "source": [
    "with open('invoices_new.pkl', 'rb') as f:\n",
    "    invoice = pickle.load(f)"
   ]
  },
  {
   "cell_type": "code",
   "execution_count": 40,
   "id": "8ff3e543",
   "metadata": {},
   "outputs": [
    {
     "data": {
      "text/plain": [
       "{'id': '365371O',\n",
       " 'created_on': '2019-05-27',\n",
       " 'items': [{'item': {'id': 142446,\n",
       "    'name': 'ii_142446',\n",
       "    'unit_price': 182,\n",
       "    'type': 1},\n",
       "   'quantity': 6},\n",
       "  {'item': {'id': 154019, 'name': 'ii_154019', 'unit_price': 176, 'type': 1},\n",
       "   'quantity': 1}]}"
      ]
     },
     "execution_count": 40,
     "metadata": {},
     "output_type": "execute_result"
    }
   ],
   "source": [
    "invoice[0]"
   ]
  },
  {
   "cell_type": "code",
   "execution_count": 26,
   "id": "0f751ee3",
   "metadata": {},
   "outputs": [
    {
     "data": {
      "text/plain": [
       "100"
      ]
     },
     "execution_count": 26,
     "metadata": {},
     "output_type": "execute_result"
    }
   ],
   "source": [
    "len(invoice)"
   ]
  },
  {
   "cell_type": "code",
   "execution_count": 39,
   "id": "563c6ee0",
   "metadata": {},
   "outputs": [
    {
     "name": "stdout",
     "output_type": "stream",
     "text": [
      "0\n",
      "1\n",
      "2\n",
      "3\n",
      "4\n",
      "5\n",
      "6\n",
      "7\n",
      "8\n",
      "9\n",
      "10\n",
      "11\n",
      "12\n",
      "13\n",
      "14\n",
      "15\n",
      "16\n",
      "17\n",
      "18\n",
      "19\n",
      "20\n",
      "21\n",
      "22\n",
      "23\n",
      "24\n",
      "25\n",
      "26\n",
      "27\n",
      "28\n",
      "29\n",
      "30\n",
      "31\n"
     ]
    },
    {
     "ename": "KeyError",
     "evalue": "'items'",
     "output_type": "error",
     "traceback": [
      "\u001b[1;31m---------------------------------------------------------------------------\u001b[0m",
      "\u001b[1;31mKeyError\u001b[0m                                  Traceback (most recent call last)",
      "Cell \u001b[1;32mIn[39], line 53\u001b[0m\n\u001b[0;32m     37\u001b[0m \u001b[38;5;66;03m# #             for item in invoice:\u001b[39;00m\n\u001b[0;32m     38\u001b[0m \u001b[38;5;66;03m# #                 rows.append({\u001b[39;00m\n\u001b[0;32m     39\u001b[0m \u001b[38;5;66;03m# #                     'invoice_id': invoice['id'],\u001b[39;00m\n\u001b[1;32m   (...)\u001b[0m\n\u001b[0;32m     50\u001b[0m \n\u001b[0;32m     51\u001b[0m \u001b[38;5;66;03m# Usage\u001b[39;00m\n\u001b[0;32m     52\u001b[0m extractor \u001b[38;5;241m=\u001b[39m DataExtractor(\u001b[38;5;124m'\u001b[39m\u001b[38;5;124minvoices_new.pkl\u001b[39m\u001b[38;5;124m'\u001b[39m, \u001b[38;5;124m'\u001b[39m\u001b[38;5;124mexpired_invoices.txt\u001b[39m\u001b[38;5;124m'\u001b[39m)\n\u001b[1;32m---> 53\u001b[0m df \u001b[38;5;241m=\u001b[39m \u001b[43mextractor\u001b[49m\u001b[38;5;241;43m.\u001b[39;49m\u001b[43mtransform_data\u001b[49m\u001b[43m(\u001b[49m\u001b[43m)\u001b[49m\n\u001b[0;32m     54\u001b[0m \u001b[38;5;66;03m# df = extractor.load_expired_invoices()\u001b[39;00m\n",
      "Cell \u001b[1;32mIn[39], line 23\u001b[0m, in \u001b[0;36mDataExtractor.transform_data\u001b[1;34m(self)\u001b[0m\n\u001b[0;32m     21\u001b[0m rows \u001b[38;5;241m=\u001b[39m []\n\u001b[0;32m     22\u001b[0m \u001b[38;5;28;01mfor\u001b[39;00m item \u001b[38;5;129;01min\u001b[39;00m \u001b[38;5;28mself\u001b[39m\u001b[38;5;241m.\u001b[39minvoices:\n\u001b[1;32m---> 23\u001b[0m     a \u001b[38;5;241m=\u001b[39m \u001b[43mitem\u001b[49m\u001b[43m[\u001b[49m\u001b[38;5;124;43m'\u001b[39;49m\u001b[38;5;124;43mitems\u001b[39;49m\u001b[38;5;124;43m'\u001b[39;49m\u001b[43m]\u001b[49m\n\u001b[0;32m     24\u001b[0m     \u001b[38;5;28mprint\u001b[39m(k)\n\u001b[0;32m     25\u001b[0m     k\u001b[38;5;241m+\u001b[39m\u001b[38;5;241m=\u001b[39m\u001b[38;5;241m1\u001b[39m\n",
      "\u001b[1;31mKeyError\u001b[0m: 'items'"
     ]
    }
   ],
   "source": [
    "import pandas as pd\n",
    "import pickle\n",
    "\n",
    "class DataExtractor:\n",
    "    def __init__(self, pickle_file, expired_file):\n",
    "        self.pickle_file = pickle_file\n",
    "        self.expired_file = expired_file\n",
    "        self.invoices = self.load_data()\n",
    "        self.expired_invoices = self.load_expired_invoices()\n",
    "\n",
    "    def load_data(self):\n",
    "        with open(self.pickle_file, 'rb') as f:\n",
    "            return pickle.load(f)\n",
    "\n",
    "    def load_expired_invoices(self):\n",
    "        with open(self.expired_file, 'r') as f:\n",
    "            return [line.strip() for line in f.readlines()]\n",
    "\n",
    "    def transform_data(self):\n",
    "        k = 0\n",
    "        rows = []\n",
    "        for item in self.invoices:\n",
    "            f = item['id']\n",
    "            a = item['items']\n",
    "            print(k)\n",
    "            k+=1\n",
    "            b = a[0]\n",
    "            c = b['item']\n",
    "            d = c['unit_price']\n",
    "            if b['quantity'] == 'ten':\n",
    "                e = 10\n",
    "            else:\n",
    "                e = b['quantity']\n",
    "            invoice_total = d * e\n",
    "            percentage_in_invoice = float(d*e / f)\n",
    "            is_expired = bool(f in expired)\n",
    "\n",
    "            rows.append({\n",
    "                'invoice_id': item['id'],\n",
    "                'created_on': pd.to_datetime(item['created_on']),\n",
    "                'invoiceitem_id': c['id'],\n",
    "                'invoiceitem_name': c['name'],\n",
    "                'type': {0: 'Material', 1: 'Equipment', 2: 'Service', 3: 'Other'}.get(item['type'], 'Unknown'),\n",
    "                'unit_price': item['unit_price'],\n",
    "                'total_price':  d * e\n",
    "                'percentage_in_invoice': float(d*e / f)\n",
    "                'is_expired': bool(f in expired)\n",
    "                })\n",
    "        return pd.DataFrame(rows).sort_values(['invoice_id', 'invoiceitem_id'])\n"
   ]
  },
  {
   "cell_type": "code",
   "execution_count": 11,
   "id": "a99815e9",
   "metadata": {},
   "outputs": [
    {
     "data": {
      "text/plain": [
       "['305869, 377307, 391273, 385290, 331902, 397723, 343695, 340601, 347510, 325156, 379387, 348894, 322229, 326649, 377960, 325063, 369378, 319405, 383681, 367288, 356552, 394428, 381476, 381457, 349879, 343254, 366751, 330931, 363263, 326452, 379687, 356532, 383235, 313012, 368913, 352442, 315960, 351096, 331193, 392657, 352391, 389528, 338547, 379961, 337140, 323231, 371205, 378746, 307175, 340299']"
      ]
     },
     "execution_count": 11,
     "metadata": {},
     "output_type": "execute_result"
    }
   ],
   "source": [
    "df"
   ]
  }
 ],
 "metadata": {
  "kernelspec": {
   "display_name": "Python 3 (ipykernel)",
   "language": "python",
   "name": "python3"
  },
  "language_info": {
   "codemirror_mode": {
    "name": "ipython",
    "version": 3
   },
   "file_extension": ".py",
   "mimetype": "text/x-python",
   "name": "python",
   "nbconvert_exporter": "python",
   "pygments_lexer": "ipython3",
   "version": "3.10.6"
  }
 },
 "nbformat": 4,
 "nbformat_minor": 5
}
